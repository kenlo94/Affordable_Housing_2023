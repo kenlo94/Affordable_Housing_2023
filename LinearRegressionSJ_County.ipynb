{
 "cells": [
  {
   "cell_type": "code",
   "execution_count": 1,
   "id": "5497fb56",
   "metadata": {},
   "outputs": [],
   "source": [
    "import pandas as pd\n",
    "from pathlib import Path\n",
    "import matplotlib.pyplot as plt\n",
    "from sklearn.linear_model import LinearRegression"
   ]
  },
  {
   "cell_type": "code",
   "execution_count": 2,
   "id": "32606fd7",
   "metadata": {},
   "outputs": [
    {
     "data": {
      "text/html": [
       "<div>\n",
       "<style scoped>\n",
       "    .dataframe tbody tr th:only-of-type {\n",
       "        vertical-align: middle;\n",
       "    }\n",
       "\n",
       "    .dataframe tbody tr th {\n",
       "        vertical-align: top;\n",
       "    }\n",
       "\n",
       "    .dataframe thead th {\n",
       "        text-align: right;\n",
       "    }\n",
       "</style>\n",
       "<table border=\"1\" class=\"dataframe\">\n",
       "  <thead>\n",
       "    <tr style=\"text-align: right;\">\n",
       "      <th></th>\n",
       "      <th>Year</th>\n",
       "      <th>Alameda</th>\n",
       "      <th>Alpine</th>\n",
       "      <th>Amador</th>\n",
       "      <th>Butte</th>\n",
       "      <th>Calaveras</th>\n",
       "      <th>Colusa</th>\n",
       "      <th>Contra_Costa</th>\n",
       "      <th>Del_Norte</th>\n",
       "      <th>El_Dorado</th>\n",
       "      <th>...</th>\n",
       "      <th>Sonoma</th>\n",
       "      <th>Stanislaus</th>\n",
       "      <th>Sutter</th>\n",
       "      <th>Tehama</th>\n",
       "      <th>Trinity</th>\n",
       "      <th>Tulare</th>\n",
       "      <th>Tuolumne</th>\n",
       "      <th>Ventura</th>\n",
       "      <th>Yolo</th>\n",
       "      <th>Yuba</th>\n",
       "    </tr>\n",
       "  </thead>\n",
       "  <tbody>\n",
       "    <tr>\n",
       "      <th>0</th>\n",
       "      <td>2000</td>\n",
       "      <td>868</td>\n",
       "      <td>305</td>\n",
       "      <td>494</td>\n",
       "      <td>482</td>\n",
       "      <td>457</td>\n",
       "      <td>448</td>\n",
       "      <td>825</td>\n",
       "      <td>479</td>\n",
       "      <td>568</td>\n",
       "      <td>...</td>\n",
       "      <td>689</td>\n",
       "      <td>542</td>\n",
       "      <td>475</td>\n",
       "      <td>488</td>\n",
       "      <td>436</td>\n",
       "      <td>458</td>\n",
       "      <td>490</td>\n",
       "      <td>712</td>\n",
       "      <td>641</td>\n",
       "      <td>542</td>\n",
       "    </tr>\n",
       "    <tr>\n",
       "      <th>1</th>\n",
       "      <td>2001</td>\n",
       "      <td>894</td>\n",
       "      <td>406</td>\n",
       "      <td>527</td>\n",
       "      <td>510</td>\n",
       "      <td>482</td>\n",
       "      <td>489</td>\n",
       "      <td>860</td>\n",
       "      <td>494</td>\n",
       "      <td>601</td>\n",
       "      <td>...</td>\n",
       "      <td>695</td>\n",
       "      <td>569</td>\n",
       "      <td>504</td>\n",
       "      <td>501</td>\n",
       "      <td>455</td>\n",
       "      <td>476</td>\n",
       "      <td>509</td>\n",
       "      <td>727</td>\n",
       "      <td>680</td>\n",
       "      <td>579</td>\n",
       "    </tr>\n",
       "    <tr>\n",
       "      <th>2</th>\n",
       "      <td>2002</td>\n",
       "      <td>910</td>\n",
       "      <td>425</td>\n",
       "      <td>556</td>\n",
       "      <td>523</td>\n",
       "      <td>506</td>\n",
       "      <td>511</td>\n",
       "      <td>885</td>\n",
       "      <td>505</td>\n",
       "      <td>613</td>\n",
       "      <td>...</td>\n",
       "      <td>702</td>\n",
       "      <td>592</td>\n",
       "      <td>523</td>\n",
       "      <td>517</td>\n",
       "      <td>475</td>\n",
       "      <td>493</td>\n",
       "      <td>546</td>\n",
       "      <td>735</td>\n",
       "      <td>684</td>\n",
       "      <td>608</td>\n",
       "    </tr>\n",
       "    <tr>\n",
       "      <th>3</th>\n",
       "      <td>2004</td>\n",
       "      <td>988</td>\n",
       "      <td>473</td>\n",
       "      <td>625</td>\n",
       "      <td>559</td>\n",
       "      <td>545</td>\n",
       "      <td>528</td>\n",
       "      <td>955</td>\n",
       "      <td>548</td>\n",
       "      <td>645</td>\n",
       "      <td>...</td>\n",
       "      <td>741</td>\n",
       "      <td>637</td>\n",
       "      <td>560</td>\n",
       "      <td>556</td>\n",
       "      <td>511</td>\n",
       "      <td>537</td>\n",
       "      <td>594</td>\n",
       "      <td>823</td>\n",
       "      <td>713</td>\n",
       "      <td>647</td>\n",
       "    </tr>\n",
       "    <tr>\n",
       "      <th>4</th>\n",
       "      <td>2003</td>\n",
       "      <td>939</td>\n",
       "      <td>440</td>\n",
       "      <td>577</td>\n",
       "      <td>536</td>\n",
       "      <td>518</td>\n",
       "      <td>515</td>\n",
       "      <td>897</td>\n",
       "      <td>521</td>\n",
       "      <td>628</td>\n",
       "      <td>...</td>\n",
       "      <td>716</td>\n",
       "      <td>614</td>\n",
       "      <td>536</td>\n",
       "      <td>541</td>\n",
       "      <td>499</td>\n",
       "      <td>512</td>\n",
       "      <td>568</td>\n",
       "      <td>775</td>\n",
       "      <td>673</td>\n",
       "      <td>659</td>\n",
       "    </tr>\n",
       "  </tbody>\n",
       "</table>\n",
       "<p>5 rows × 59 columns</p>\n",
       "</div>"
      ],
      "text/plain": [
       "   Year  Alameda  Alpine  Amador  Butte  Calaveras  Colusa  Contra_Costa  \\\n",
       "0  2000      868     305     494    482        457     448           825   \n",
       "1  2001      894     406     527    510        482     489           860   \n",
       "2  2002      910     425     556    523        506     511           885   \n",
       "3  2004      988     473     625    559        545     528           955   \n",
       "4  2003      939     440     577    536        518     515           897   \n",
       "\n",
       "   Del_Norte  El_Dorado  ...  Sonoma  Stanislaus  Sutter  Tehama  Trinity  \\\n",
       "0        479        568  ...     689         542     475     488      436   \n",
       "1        494        601  ...     695         569     504     501      455   \n",
       "2        505        613  ...     702         592     523     517      475   \n",
       "3        548        645  ...     741         637     560     556      511   \n",
       "4        521        628  ...     716         614     536     541      499   \n",
       "\n",
       "   Tulare  Tuolumne  Ventura  Yolo  Yuba  \n",
       "0     458       490      712   641   542  \n",
       "1     476       509      727   680   579  \n",
       "2     493       546      735   684   608  \n",
       "3     537       594      823   713   647  \n",
       "4     512       568      775   673   659  \n",
       "\n",
       "[5 rows x 59 columns]"
      ]
     },
     "execution_count": 2,
     "metadata": {},
     "output_type": "execute_result"
    }
   ],
   "source": [
    "df = pd.read_csv(Path('1997_2020_CA_County_Weekly_Wages.csv'))\n",
    "df.head()"
   ]
  },
  {
   "cell_type": "code",
   "execution_count": 3,
   "id": "457fc372",
   "metadata": {},
   "outputs": [
    {
     "data": {
      "image/png": "[encoded data removed]",
      "text/plain": [
       "<Figure size 432x288 with 1 Axes>"
      ]
     },
     "metadata": {
      "needs_background": "light"
     },
     "output_type": "display_data"
    }
   ],
   "source": [
    "plt.scatter(df.Year, df.San_Joaquin)\n",
    "plt.xlabel('Year')\n",
    "plt.ylabel('Average Weekly Wages in $USD')\n",
    "plt.show()"
   ]
  },
  {
   "cell_type": "code",
   "execution_count": 4,
   "id": "c1acde7c",
   "metadata": {},
   "outputs": [],
   "source": [
    "X = df.Year.values.reshape(-1,1)"
   ]
  },
  {
   "cell_type": "code",
   "execution_count": 5,
   "id": "a2e2fdb1",
   "metadata": {},
   "outputs": [
    {
     "data": {
      "text/plain": [
       "array([[2000],\n",
       "       [2001],\n",
       "       [2002],\n",
       "       [2004],\n",
       "       [2003],\n",
       "       [2005],\n",
       "       [2006],\n",
       "       [2007],\n",
       "       [2008],\n",
       "       [2009],\n",
       "       [2010],\n",
       "       [2011],\n",
       "       [2013],\n",
       "       [2012],\n",
       "       [2014],\n",
       "       [2015],\n",
       "       [2016],\n",
       "       [2017],\n",
       "       [2018],\n",
       "       [2019],\n",
       "       [2020]], dtype=int64)"
      ]
     },
     "execution_count": 5,
     "metadata": {},
     "output_type": "execute_result"
    }
   ],
   "source": [
    "X"
   ]
  },
  {
   "cell_type": "code",
   "execution_count": 6,
   "id": "6d4c4966",
   "metadata": {},
   "outputs": [
    {
     "data": {
      "text/plain": [
       "(21, 1)"
      ]
     },
     "execution_count": 6,
     "metadata": {},
     "output_type": "execute_result"
    }
   ],
   "source": [
    "X.shape"
   ]
  },
  {
   "cell_type": "code",
   "execution_count": 7,
   "id": "c67bb49b",
   "metadata": {},
   "outputs": [],
   "source": [
    "y = df.San_Joaquin.values.reshape(-1,1)"
   ]
  },
  {
   "cell_type": "code",
   "execution_count": 8,
   "id": "88abd31f",
   "metadata": {},
   "outputs": [
    {
     "data": {
      "text/plain": [
       "array([[ 565],\n",
       "       [ 593],\n",
       "       [ 615],\n",
       "       [ 657],\n",
       "       [ 633],\n",
       "       [ 674],\n",
       "       [ 700],\n",
       "       [ 729],\n",
       "       [ 751],\n",
       "       [ 755],\n",
       "       [ 768],\n",
       "       [ 779],\n",
       "       [ 786],\n",
       "       [ 784],\n",
       "       [ 800],\n",
       "       [ 835],\n",
       "       [ 854],\n",
       "       [ 876],\n",
       "       [ 906],\n",
       "       [ 943],\n",
       "       [1027]], dtype=int64)"
      ]
     },
     "execution_count": 8,
     "metadata": {},
     "output_type": "execute_result"
    }
   ],
   "source": [
    "y"
   ]
  },
  {
   "cell_type": "code",
   "execution_count": 9,
   "id": "bac748a0",
   "metadata": {},
   "outputs": [
    {
     "data": {
      "text/plain": [
       "(21, 1)"
      ]
     },
     "execution_count": 9,
     "metadata": {},
     "output_type": "execute_result"
    }
   ],
   "source": [
    "y.shape"
   ]
  },
  {
   "cell_type": "code",
   "execution_count": 10,
   "id": "95c799ae",
   "metadata": {},
   "outputs": [],
   "source": [
    "model = LinearRegression()"
   ]
  },
  {
   "cell_type": "code",
   "execution_count": 11,
   "id": "a1133182",
   "metadata": {},
   "outputs": [
    {
     "data": {
      "text/plain": [
       "LinearRegression()"
      ]
     },
     "execution_count": 11,
     "metadata": {},
     "output_type": "execute_result"
    }
   ],
   "source": [
    "model.fit(X, y)"
   ]
  },
  {
   "cell_type": "code",
   "execution_count": 12,
   "id": "6ae3895a",
   "metadata": {},
   "outputs": [
    {
     "name": "stdout",
     "output_type": "stream",
     "text": [
      "(21, 1)\n"
     ]
    }
   ],
   "source": [
    "y_pred = model.predict(X)\n",
    "print(y_pred.shape)"
   ]
  },
  {
   "cell_type": "code",
   "execution_count": 13,
   "id": "161c2962",
   "metadata": {},
   "outputs": [
    {
     "data": {
      "image/png": "[encoded data removed]",
      "text/plain": [
       "<Figure size 432x288 with 1 Axes>"
      ]
     },
     "metadata": {
      "needs_background": "light"
     },
     "output_type": "display_data"
    }
   ],
   "source": [
    "plt.scatter(X, y)\n",
    "plt.plot(X, y_pred, color='red')\n",
    "plt.show()"
   ]
  },
  {
   "cell_type": "code",
   "execution_count": 14,
   "id": "5a98ad46",
   "metadata": {},
   "outputs": [
    {
     "name": "stdout",
     "output_type": "stream",
     "text": [
      "[[18.76233766]]\n",
      "[-36948.96536797]\n"
     ]
    }
   ],
   "source": [
    "print(model.coef_)\n",
    "print(model.intercept_)"
   ]
  },
  {
   "cell_type": "code",
   "execution_count": 15,
   "id": "7e171fba",
   "metadata": {},
   "outputs": [],
   "source": [
    "slope = model.coef_\n",
    "intercept = model.intercept_"
   ]
  },
  {
   "cell_type": "code",
   "execution_count": 16,
   "id": "4623919e",
   "metadata": {},
   "outputs": [
    {
     "name": "stdout",
     "output_type": "stream",
     "text": [
      "[[18.76233766]]\n",
      "[-36948.96536797]\n"
     ]
    }
   ],
   "source": [
    "print(slope)\n",
    "print(intercept)"
   ]
  },
  {
   "cell_type": "code",
   "execution_count": 17,
   "id": "73340b4e",
   "metadata": {},
   "outputs": [
    {
     "name": "stdout",
     "output_type": "stream",
     "text": [
      "The estimated average weekly wage in 2022 for San Joaquin County is $ [[988.48138528]] dollars\n"
     ]
    }
   ],
   "source": [
    "print(f\"The estimated average weekly wage in 2022 for San Joaquin County is $ {(slope)*2022 + (intercept)} dollars\" )\n",
    "# print(f\"The new point was classified as: {predictions}\") "
   ]
  },
  {
   "cell_type": "code",
   "execution_count": 18,
   "id": "f51edc36",
   "metadata": {},
   "outputs": [
    {
     "data": {
      "text/html": [
       "<div>\n",
       "<style scoped>\n",
       "    .dataframe tbody tr th:only-of-type {\n",
       "        vertical-align: middle;\n",
       "    }\n",
       "\n",
       "    .dataframe tbody tr th {\n",
       "        vertical-align: top;\n",
       "    }\n",
       "\n",
       "    .dataframe thead th {\n",
       "        text-align: right;\n",
       "    }\n",
       "</style>\n",
       "<table border=\"1\" class=\"dataframe\">\n",
       "  <thead>\n",
       "    <tr style=\"text-align: right;\">\n",
       "      <th></th>\n",
       "      <th>Year</th>\n",
       "      <th>Alameda</th>\n",
       "      <th>Alpine</th>\n",
       "      <th>Amador</th>\n",
       "      <th>Butte</th>\n",
       "      <th>Calaveras</th>\n",
       "      <th>Colusa</th>\n",
       "      <th>Contra_Costa</th>\n",
       "      <th>Del_Norte</th>\n",
       "      <th>El_Dorado</th>\n",
       "      <th>...</th>\n",
       "      <th>Sonoma</th>\n",
       "      <th>Stanislaus</th>\n",
       "      <th>Sutter</th>\n",
       "      <th>Tehama</th>\n",
       "      <th>Trinity</th>\n",
       "      <th>Tulare</th>\n",
       "      <th>Tuolumne</th>\n",
       "      <th>Ventura</th>\n",
       "      <th>Yolo</th>\n",
       "      <th>Yuba</th>\n",
       "    </tr>\n",
       "  </thead>\n",
       "  <tbody>\n",
       "    <tr>\n",
       "      <th>0</th>\n",
       "      <td>2000</td>\n",
       "      <td>1449840</td>\n",
       "      <td>1209</td>\n",
       "      <td>35153</td>\n",
       "      <td>203807</td>\n",
       "      <td>40645</td>\n",
       "      <td>18817</td>\n",
       "      <td>952810</td>\n",
       "      <td>27440</td>\n",
       "      <td>157162</td>\n",
       "      <td>...</td>\n",
       "      <td>460421</td>\n",
       "      <td>449471</td>\n",
       "      <td>79192</td>\n",
       "      <td>56170</td>\n",
       "      <td>12980</td>\n",
       "      <td>368627</td>\n",
       "      <td>54658</td>\n",
       "      <td>756506</td>\n",
       "      <td>169835</td>\n",
       "      <td>60372</td>\n",
       "    </tr>\n",
       "    <tr>\n",
       "      <th>1</th>\n",
       "      <td>2001</td>\n",
       "      <td>1469484</td>\n",
       "      <td>1196</td>\n",
       "      <td>35697</td>\n",
       "      <td>206193</td>\n",
       "      <td>41304</td>\n",
       "      <td>19022</td>\n",
       "      <td>970952</td>\n",
       "      <td>27292</td>\n",
       "      <td>161101</td>\n",
       "      <td>...</td>\n",
       "      <td>465293</td>\n",
       "      <td>463761</td>\n",
       "      <td>80138</td>\n",
       "      <td>56685</td>\n",
       "      <td>12859</td>\n",
       "      <td>373171</td>\n",
       "      <td>55253</td>\n",
       "      <td>766689</td>\n",
       "      <td>175337</td>\n",
       "      <td>61249</td>\n",
       "    </tr>\n",
       "    <tr>\n",
       "      <th>2</th>\n",
       "      <td>2002</td>\n",
       "      <td>1462106</td>\n",
       "      <td>1237</td>\n",
       "      <td>36561</td>\n",
       "      <td>209120</td>\n",
       "      <td>42380</td>\n",
       "      <td>19232</td>\n",
       "      <td>979862</td>\n",
       "      <td>27397</td>\n",
       "      <td>165195</td>\n",
       "      <td>...</td>\n",
       "      <td>465298</td>\n",
       "      <td>477469</td>\n",
       "      <td>82162</td>\n",
       "      <td>57380</td>\n",
       "      <td>13064</td>\n",
       "      <td>379568</td>\n",
       "      <td>55850</td>\n",
       "      <td>779489</td>\n",
       "      <td>180327</td>\n",
       "      <td>62100</td>\n",
       "    </tr>\n",
       "    <tr>\n",
       "      <th>3</th>\n",
       "      <td>2003</td>\n",
       "      <td>1454163</td>\n",
       "      <td>1233</td>\n",
       "      <td>36994</td>\n",
       "      <td>211481</td>\n",
       "      <td>43755</td>\n",
       "      <td>19568</td>\n",
       "      <td>987531</td>\n",
       "      <td>27601</td>\n",
       "      <td>168331</td>\n",
       "      <td>...</td>\n",
       "      <td>466489</td>\n",
       "      <td>487357</td>\n",
       "      <td>84671</td>\n",
       "      <td>58528</td>\n",
       "      <td>13210</td>\n",
       "      <td>388743</td>\n",
       "      <td>56513</td>\n",
       "      <td>788070</td>\n",
       "      <td>182954</td>\n",
       "      <td>62733</td>\n",
       "    </tr>\n",
       "    <tr>\n",
       "      <th>4</th>\n",
       "      <td>2004</td>\n",
       "      <td>1445721</td>\n",
       "      <td>1263</td>\n",
       "      <td>37400</td>\n",
       "      <td>213065</td>\n",
       "      <td>44530</td>\n",
       "      <td>20207</td>\n",
       "      <td>992424</td>\n",
       "      <td>27950</td>\n",
       "      <td>171653</td>\n",
       "      <td>...</td>\n",
       "      <td>466809</td>\n",
       "      <td>492613</td>\n",
       "      <td>86484</td>\n",
       "      <td>59571</td>\n",
       "      <td>13159</td>\n",
       "      <td>398226</td>\n",
       "      <td>56602</td>\n",
       "      <td>793994</td>\n",
       "      <td>185237</td>\n",
       "      <td>63742</td>\n",
       "    </tr>\n",
       "  </tbody>\n",
       "</table>\n",
       "<p>5 rows × 59 columns</p>\n",
       "</div>"
      ],
      "text/plain": [
       "   Year  Alameda  Alpine  Amador   Butte  Calaveras  Colusa  Contra_Costa  \\\n",
       "0  2000  1449840    1209   35153  203807      40645   18817        952810   \n",
       "1  2001  1469484    1196   35697  206193      41304   19022        970952   \n",
       "2  2002  1462106    1237   36561  209120      42380   19232        979862   \n",
       "3  2003  1454163    1233   36994  211481      43755   19568        987531   \n",
       "4  2004  1445721    1263   37400  213065      44530   20207        992424   \n",
       "\n",
       "   Del_Norte  El_Dorado  ...  Sonoma  Stanislaus  Sutter  Tehama  Trinity  \\\n",
       "0      27440     157162  ...  460421      449471   79192   56170    12980   \n",
       "1      27292     161101  ...  465293      463761   80138   56685    12859   \n",
       "2      27397     165195  ...  465298      477469   82162   57380    13064   \n",
       "3      27601     168331  ...  466489      487357   84671   58528    13210   \n",
       "4      27950     171653  ...  466809      492613   86484   59571    13159   \n",
       "\n",
       "   Tulare  Tuolumne  Ventura    Yolo   Yuba  \n",
       "0  368627     54658   756506  169835  60372  \n",
       "1  373171     55253   766689  175337  61249  \n",
       "2  379568     55850   779489  180327  62100  \n",
       "3  388743     56513   788070  182954  62733  \n",
       "4  398226     56602   793994  185237  63742  \n",
       "\n",
       "[5 rows x 59 columns]"
      ]
     },
     "execution_count": 18,
     "metadata": {},
     "output_type": "execute_result"
    }
   ],
   "source": [
    "df2 = pd.read_csv(Path('Population_data.csv'))\n",
    "df2.head()"
   ]
  },
  {
   "cell_type": "code",
   "execution_count": 19,
   "id": "7ed6b99d",
   "metadata": {},
   "outputs": [
    {
     "data": {
      "image/png": "[encoded data removed]",
      "text/plain": [
       "<Figure size 432x288 with 1 Axes>"
      ]
     },
     "metadata": {
      "needs_background": "light"
     },
     "output_type": "display_data"
    }
   ],
   "source": [
    "plt.scatter(df2.Year, df2.San_Joaquin)\n",
    "plt.xlabel('Year')\n",
    "plt.ylabel('Population')\n",
    "plt.show()"
   ]
  },
  {
   "cell_type": "code",
   "execution_count": 20,
   "id": "119cf196",
   "metadata": {},
   "outputs": [
    {
     "data": {
      "text/plain": [
       "array([[2000],\n",
       "       [2001],\n",
       "       [2002],\n",
       "       [2003],\n",
       "       [2004],\n",
       "       [2005],\n",
       "       [2006],\n",
       "       [2007],\n",
       "       [2008],\n",
       "       [2009],\n",
       "       [2010],\n",
       "       [2011],\n",
       "       [2012],\n",
       "       [2013],\n",
       "       [2014],\n",
       "       [2015],\n",
       "       [2016],\n",
       "       [2017],\n",
       "       [2018],\n",
       "       [2019],\n",
       "       [2020]], dtype=int64)"
      ]
     },
     "execution_count": 20,
     "metadata": {},
     "output_type": "execute_result"
    }
   ],
   "source": [
    "X2 = df2.Year.values.reshape(-1,1)\n",
    "X2"
   ]
  },
  {
   "cell_type": "code",
   "execution_count": 21,
   "id": "f1bb2dbc",
   "metadata": {},
   "outputs": [
    {
     "data": {
      "text/plain": [
       "(21, 1)"
      ]
     },
     "execution_count": 21,
     "metadata": {},
     "output_type": "execute_result"
    }
   ],
   "source": [
    "X2.shape"
   ]
  },
  {
   "cell_type": "code",
   "execution_count": 22,
   "id": "e05b727e",
   "metadata": {},
   "outputs": [],
   "source": [
    "y2 = df2.San_Joaquin.values.reshape(-1,1)"
   ]
  },
  {
   "cell_type": "code",
   "execution_count": 23,
   "id": "07ef993b",
   "metadata": {},
   "outputs": [
    {
     "data": {
      "text/plain": [
       "array([[567885],\n",
       "       [591207],\n",
       "       [609041],\n",
       "       [626778],\n",
       "       [642898],\n",
       "       [656985],\n",
       "       [662812],\n",
       "       [668080],\n",
       "       [671692],\n",
       "       [677736],\n",
       "       [687127],\n",
       "       [694354],\n",
       "       [699593],\n",
       "       [702046],\n",
       "       [711579],\n",
       "       [722271],\n",
       "       [732809],\n",
       "       [743296],\n",
       "       [752491],\n",
       "       [762148],\n",
       "       [780517]], dtype=int64)"
      ]
     },
     "execution_count": 23,
     "metadata": {},
     "output_type": "execute_result"
    }
   ],
   "source": [
    "y2"
   ]
  },
  {
   "cell_type": "code",
   "execution_count": 24,
   "id": "360094b3",
   "metadata": {},
   "outputs": [
    {
     "data": {
      "text/plain": [
       "(21, 1)"
      ]
     },
     "execution_count": 24,
     "metadata": {},
     "output_type": "execute_result"
    }
   ],
   "source": [
    "y2.shape"
   ]
  },
  {
   "cell_type": "code",
   "execution_count": 25,
   "id": "d16989f0",
   "metadata": {},
   "outputs": [],
   "source": [
    "model = LinearRegression()"
   ]
  },
  {
   "cell_type": "code",
   "execution_count": 26,
   "id": "34b659ee",
   "metadata": {},
   "outputs": [
    {
     "data": {
      "text/plain": [
       "LinearRegression()"
      ]
     },
     "execution_count": 26,
     "metadata": {},
     "output_type": "execute_result"
    }
   ],
   "source": [
    "model.fit(X2,y2)"
   ]
  },
  {
   "cell_type": "code",
   "execution_count": 27,
   "id": "8008ba4e",
   "metadata": {},
   "outputs": [
    {
     "name": "stdout",
     "output_type": "stream",
     "text": [
      "(21, 1)\n"
     ]
    }
   ],
   "source": [
    "y2_pred = model.predict(X2)\n",
    "print(y2_pred.shape)"
   ]
  },
  {
   "cell_type": "code",
   "execution_count": 28,
   "id": "db177d8d",
   "metadata": {},
   "outputs": [
    {
     "data": {
      "image/png": "[encoded data removed]",
      "text/plain": [
       "<Figure size 432x288 with 1 Axes>"
      ]
     },
     "metadata": {
      "needs_background": "light"
     },
     "output_type": "display_data"
    }
   ],
   "source": [
    "plt.scatter(X2, y2)\n",
    "plt.plot(X2, y2_pred, color='red')\n",
    "plt.show()"
   ]
  },
  {
   "cell_type": "code",
   "execution_count": 29,
   "id": "516c1861",
   "metadata": {},
   "outputs": [
    {
     "name": "stdout",
     "output_type": "stream",
     "text": [
      "[[8913.37272727]]\n",
      "[-17231910.37229437]\n"
     ]
    }
   ],
   "source": [
    "print(model.coef_)\n",
    "print(model.intercept_)"
   ]
  },
  {
   "cell_type": "code",
   "execution_count": 30,
   "id": "3fa30ea1",
   "metadata": {},
   "outputs": [],
   "source": [
    "slope2 = model.coef_\n",
    "intercept2 = model.intercept_"
   ]
  },
  {
   "cell_type": "code",
   "execution_count": 31,
   "id": "b826327b",
   "metadata": {},
   "outputs": [
    {
     "name": "stdout",
     "output_type": "stream",
     "text": [
      "The estimated population in 2022 for San Joaquin County is [[790929.28225108]]\n"
     ]
    }
   ],
   "source": [
    "print(f\"The estimated population in 2022 for San Joaquin County is {(slope2)*2022 + (intercept2)}\" )\n",
    "# print(f\"The new point was classified as: {predictions}\") "
   ]
  },
  {
   "cell_type": "code",
   "execution_count": 32,
   "id": "f18f0c2d",
   "metadata": {},
   "outputs": [
    {
     "data": {
      "text/html": [
       "<div>\n",
       "<style scoped>\n",
       "    .dataframe tbody tr th:only-of-type {\n",
       "        vertical-align: middle;\n",
       "    }\n",
       "\n",
       "    .dataframe tbody tr th {\n",
       "        vertical-align: top;\n",
       "    }\n",
       "\n",
       "    .dataframe thead th {\n",
       "        text-align: right;\n",
       "    }\n",
       "</style>\n",
       "<table border=\"1\" class=\"dataframe\">\n",
       "  <thead>\n",
       "    <tr style=\"text-align: right;\">\n",
       "      <th></th>\n",
       "      <th>Year</th>\n",
       "      <th>Alameda</th>\n",
       "      <th>Alpine</th>\n",
       "      <th>Amador</th>\n",
       "      <th>Butte</th>\n",
       "      <th>Calaveras</th>\n",
       "      <th>Colusa</th>\n",
       "      <th>Contra_Costa</th>\n",
       "      <th>Del_Norte</th>\n",
       "      <th>El_Dorado</th>\n",
       "      <th>...</th>\n",
       "      <th>Sonoma</th>\n",
       "      <th>Stanislaus</th>\n",
       "      <th>Sutter</th>\n",
       "      <th>Tehama</th>\n",
       "      <th>Trinity</th>\n",
       "      <th>Tulare</th>\n",
       "      <th>Tuolumne</th>\n",
       "      <th>Ventura</th>\n",
       "      <th>Yolo</th>\n",
       "      <th>Yuba</th>\n",
       "    </tr>\n",
       "  </thead>\n",
       "  <tbody>\n",
       "    <tr>\n",
       "      <th>0</th>\n",
       "      <td>2000</td>\n",
       "      <td>327432.7500</td>\n",
       "      <td>NaN</td>\n",
       "      <td>NaN</td>\n",
       "      <td>NaN</td>\n",
       "      <td>NaN</td>\n",
       "      <td>NaN</td>\n",
       "      <td>345277.0000</td>\n",
       "      <td>NaN</td>\n",
       "      <td>218514.1667</td>\n",
       "      <td>...</td>\n",
       "      <td>302642.0000</td>\n",
       "      <td>152639.6667</td>\n",
       "      <td>NaN</td>\n",
       "      <td>NaN</td>\n",
       "      <td>NaN</td>\n",
       "      <td>110406.3333</td>\n",
       "      <td>NaN</td>\n",
       "      <td>276377.5833</td>\n",
       "      <td>194552.9167</td>\n",
       "      <td>NaN</td>\n",
       "    </tr>\n",
       "    <tr>\n",
       "      <th>1</th>\n",
       "      <td>2001</td>\n",
       "      <td>396913.0833</td>\n",
       "      <td>NaN</td>\n",
       "      <td>NaN</td>\n",
       "      <td>153155.8333</td>\n",
       "      <td>NaN</td>\n",
       "      <td>NaN</td>\n",
       "      <td>398227.2500</td>\n",
       "      <td>NaN</td>\n",
       "      <td>259277.8333</td>\n",
       "      <td>...</td>\n",
       "      <td>369152.0000</td>\n",
       "      <td>182817.4167</td>\n",
       "      <td>NaN</td>\n",
       "      <td>NaN</td>\n",
       "      <td>NaN</td>\n",
       "      <td>109849.6667</td>\n",
       "      <td>NaN</td>\n",
       "      <td>308938.2500</td>\n",
       "      <td>226928.6667</td>\n",
       "      <td>NaN</td>\n",
       "    </tr>\n",
       "    <tr>\n",
       "      <th>2</th>\n",
       "      <td>2002</td>\n",
       "      <td>423029.2500</td>\n",
       "      <td>NaN</td>\n",
       "      <td>NaN</td>\n",
       "      <td>173906.5000</td>\n",
       "      <td>NaN</td>\n",
       "      <td>NaN</td>\n",
       "      <td>447257.5833</td>\n",
       "      <td>NaN</td>\n",
       "      <td>294482.8333</td>\n",
       "      <td>...</td>\n",
       "      <td>402949.5833</td>\n",
       "      <td>211631.2500</td>\n",
       "      <td>NaN</td>\n",
       "      <td>NaN</td>\n",
       "      <td>NaN</td>\n",
       "      <td>115958.9167</td>\n",
       "      <td>NaN</td>\n",
       "      <td>346949.6667</td>\n",
       "      <td>270387.7500</td>\n",
       "      <td>NaN</td>\n",
       "    </tr>\n",
       "    <tr>\n",
       "      <th>3</th>\n",
       "      <td>2003</td>\n",
       "      <td>458357.4167</td>\n",
       "      <td>NaN</td>\n",
       "      <td>NaN</td>\n",
       "      <td>207017.7500</td>\n",
       "      <td>NaN</td>\n",
       "      <td>NaN</td>\n",
       "      <td>506928.7500</td>\n",
       "      <td>NaN</td>\n",
       "      <td>340729.9167</td>\n",
       "      <td>...</td>\n",
       "      <td>445838.6667</td>\n",
       "      <td>244693.8333</td>\n",
       "      <td>NaN</td>\n",
       "      <td>NaN</td>\n",
       "      <td>NaN</td>\n",
       "      <td>128058.2500</td>\n",
       "      <td>NaN</td>\n",
       "      <td>415638.9167</td>\n",
       "      <td>322650.7500</td>\n",
       "      <td>NaN</td>\n",
       "    </tr>\n",
       "    <tr>\n",
       "      <th>4</th>\n",
       "      <td>2004</td>\n",
       "      <td>521536.5833</td>\n",
       "      <td>NaN</td>\n",
       "      <td>NaN</td>\n",
       "      <td>248174.8333</td>\n",
       "      <td>NaN</td>\n",
       "      <td>NaN</td>\n",
       "      <td>611119.9167</td>\n",
       "      <td>NaN</td>\n",
       "      <td>395142.0833</td>\n",
       "      <td>...</td>\n",
       "      <td>516189.7500</td>\n",
       "      <td>288306.9167</td>\n",
       "      <td>215610.4167</td>\n",
       "      <td>NaN</td>\n",
       "      <td>NaN</td>\n",
       "      <td>157002.2500</td>\n",
       "      <td>NaN</td>\n",
       "      <td>513131.1667</td>\n",
       "      <td>370081.0000</td>\n",
       "      <td>NaN</td>\n",
       "    </tr>\n",
       "  </tbody>\n",
       "</table>\n",
       "<p>5 rows × 59 columns</p>\n",
       "</div>"
      ],
      "text/plain": [
       "   Year      Alameda  Alpine  Amador        Butte  Calaveras  Colusa  \\\n",
       "0  2000  327432.7500     NaN     NaN          NaN        NaN     NaN   \n",
       "1  2001  396913.0833     NaN     NaN  153155.8333        NaN     NaN   \n",
       "2  2002  423029.2500     NaN     NaN  173906.5000        NaN     NaN   \n",
       "3  2003  458357.4167     NaN     NaN  207017.7500        NaN     NaN   \n",
       "4  2004  521536.5833     NaN     NaN  248174.8333        NaN     NaN   \n",
       "\n",
       "   Contra_Costa  Del_Norte    El_Dorado  ...       Sonoma   Stanislaus  \\\n",
       "0   345277.0000        NaN  218514.1667  ...  302642.0000  152639.6667   \n",
       "1   398227.2500        NaN  259277.8333  ...  369152.0000  182817.4167   \n",
       "2   447257.5833        NaN  294482.8333  ...  402949.5833  211631.2500   \n",
       "3   506928.7500        NaN  340729.9167  ...  445838.6667  244693.8333   \n",
       "4   611119.9167        NaN  395142.0833  ...  516189.7500  288306.9167   \n",
       "\n",
       "        Sutter  Tehama  Trinity       Tulare  Tuolumne      Ventura  \\\n",
       "0          NaN     NaN      NaN  110406.3333       NaN  276377.5833   \n",
       "1          NaN     NaN      NaN  109849.6667       NaN  308938.2500   \n",
       "2          NaN     NaN      NaN  115958.9167       NaN  346949.6667   \n",
       "3          NaN     NaN      NaN  128058.2500       NaN  415638.9167   \n",
       "4  215610.4167     NaN      NaN  157002.2500       NaN  513131.1667   \n",
       "\n",
       "          Yolo  Yuba  \n",
       "0  194552.9167   NaN  \n",
       "1  226928.6667   NaN  \n",
       "2  270387.7500   NaN  \n",
       "3  322650.7500   NaN  \n",
       "4  370081.0000   NaN  \n",
       "\n",
       "[5 rows x 59 columns]"
      ]
     },
     "execution_count": 32,
     "metadata": {},
     "output_type": "execute_result"
    }
   ],
   "source": [
    "df3 = pd.read_csv(Path('CA_Monthly_Avg_NEW.csv'))\n",
    "df3.head()"
   ]
  },
  {
   "cell_type": "code",
   "execution_count": 33,
   "id": "2745a724",
   "metadata": {},
   "outputs": [
    {
     "data": {
      "image/png": "[encoded data removed]",
      "text/plain": [
       "<Figure size 432x288 with 1 Axes>"
      ]
     },
     "metadata": {
      "needs_background": "light"
     },
     "output_type": "display_data"
    }
   ],
   "source": [
    "plt.scatter(df3.Year, df3.San_Joaquin)\n",
    "plt.xlabel('Year')\n",
    "plt.ylabel('Home Value in $USD')\n",
    "plt.show()"
   ]
  },
  {
   "cell_type": "code",
   "execution_count": 34,
   "id": "a2d38d5b",
   "metadata": {},
   "outputs": [],
   "source": [
    "X3 = df3.Year.values.reshape(-1,1)"
   ]
  },
  {
   "cell_type": "code",
   "execution_count": 35,
   "id": "8244196d",
   "metadata": {},
   "outputs": [
    {
     "data": {
      "text/plain": [
       "array([[2000],\n",
       "       [2001],\n",
       "       [2002],\n",
       "       [2003],\n",
       "       [2004],\n",
       "       [2005],\n",
       "       [2006],\n",
       "       [2007],\n",
       "       [2008],\n",
       "       [2009],\n",
       "       [2010],\n",
       "       [2011],\n",
       "       [2012],\n",
       "       [2013],\n",
       "       [2014],\n",
       "       [2015],\n",
       "       [2016],\n",
       "       [2017],\n",
       "       [2018],\n",
       "       [2019],\n",
       "       [2020]], dtype=int64)"
      ]
     },
     "execution_count": 35,
     "metadata": {},
     "output_type": "execute_result"
    }
   ],
   "source": [
    "X3"
   ]
  },
  {
   "cell_type": "code",
   "execution_count": 36,
   "id": "df608f4d",
   "metadata": {},
   "outputs": [
    {
     "data": {
      "text/plain": [
       "(21, 1)"
      ]
     },
     "execution_count": 36,
     "metadata": {},
     "output_type": "execute_result"
    }
   ],
   "source": [
    "X3.shape"
   ]
  },
  {
   "cell_type": "code",
   "execution_count": 37,
   "id": "5d102c40",
   "metadata": {},
   "outputs": [],
   "source": [
    "y3 = df3.San_Joaquin.values.reshape(-1,1)"
   ]
  },
  {
   "cell_type": "code",
   "execution_count": 38,
   "id": "b0b8465f",
   "metadata": {},
   "outputs": [
    {
     "data": {
      "text/plain": [
       "array([[172588.75  ],\n",
       "       [207363.6667],\n",
       "       [237804.8333],\n",
       "       [266678.0833],\n",
       "       [315107.3333],\n",
       "       [406169.    ],\n",
       "       [453005.9167],\n",
       "       [404699.6667],\n",
       "       [258757.75  ],\n",
       "       [182576.    ],\n",
       "       [183498.0833],\n",
       "       [170217.1667],\n",
       "       [168929.3333],\n",
       "       [209179.0833],\n",
       "       [260015.5833],\n",
       "       [274457.75  ],\n",
       "       [299598.5   ],\n",
       "       [328527.5   ],\n",
       "       [360790.0833],\n",
       "       [374082.5833],\n",
       "       [392713.1667]])"
      ]
     },
     "execution_count": 38,
     "metadata": {},
     "output_type": "execute_result"
    }
   ],
   "source": [
    "y3"
   ]
  },
  {
   "cell_type": "code",
   "execution_count": 39,
   "id": "44d37846",
   "metadata": {},
   "outputs": [
    {
     "data": {
      "text/plain": [
       "(21, 1)"
      ]
     },
     "execution_count": 39,
     "metadata": {},
     "output_type": "execute_result"
    }
   ],
   "source": [
    "y3.shape"
   ]
  },
  {
   "cell_type": "code",
   "execution_count": 40,
   "id": "1a8b39e8",
   "metadata": {},
   "outputs": [],
   "source": [
    "model = LinearRegression()"
   ]
  },
  {
   "cell_type": "code",
   "execution_count": 41,
   "id": "0fa48d61",
   "metadata": {},
   "outputs": [
    {
     "data": {
      "text/plain": [
       "LinearRegression()"
      ]
     },
     "execution_count": 41,
     "metadata": {},
     "output_type": "execute_result"
    }
   ],
   "source": [
    "model.fit(X3, y3)"
   ]
  },
  {
   "cell_type": "code",
   "execution_count": 42,
   "id": "c43b44db",
   "metadata": {},
   "outputs": [
    {
     "name": "stdout",
     "output_type": "stream",
     "text": [
      "(21, 1)\n"
     ]
    }
   ],
   "source": [
    "y3_pred = model.predict(X3)\n",
    "print(y3_pred.shape)"
   ]
  },
  {
   "cell_type": "code",
   "execution_count": 43,
   "id": "10d42151",
   "metadata": {},
   "outputs": [
    {
     "data": {
      "image/png": "[encoded data removed]",
      "text/plain": [
       "<Figure size 432x288 with 1 Axes>"
      ]
     },
     "metadata": {
      "needs_background": "light"
     },
     "output_type": "display_data"
    }
   ],
   "source": [
    "plt.scatter(X3, y3)\n",
    "plt.plot(X3, y3_pred, color='red')\n",
    "plt.show()"
   ]
  },
  {
   "cell_type": "code",
   "execution_count": 44,
   "id": "d21d3796",
   "metadata": {},
   "outputs": [
    {
     "name": "stdout",
     "output_type": "stream",
     "text": [
      "[[3657.65497792]]\n",
      "[-7069659.84689957]\n"
     ]
    }
   ],
   "source": [
    "print(model.coef_)\n",
    "print(model.intercept_)"
   ]
  },
  {
   "cell_type": "code",
   "execution_count": 45,
   "id": "cde456d1",
   "metadata": {},
   "outputs": [],
   "source": [
    "slope3 = model.coef_\n",
    "intercept3 = model.intercept_"
   ]
  },
  {
   "cell_type": "code",
   "execution_count": 46,
   "id": "452e63f5",
   "metadata": {},
   "outputs": [
    {
     "name": "stdout",
     "output_type": "stream",
     "text": [
      "[[3657.65497792]]\n",
      "[-7069659.84689957]\n"
     ]
    }
   ],
   "source": [
    "print(slope3)\n",
    "print(intercept3)"
   ]
  },
  {
   "cell_type": "code",
   "execution_count": 47,
   "id": "e1f0b47b",
   "metadata": {},
   "outputs": [
    {
     "name": "stdout",
     "output_type": "stream",
     "text": [
      "The estimated home value in 2022 for San Joaquin County is $[[326118.51845887]] dollars.\n"
     ]
    }
   ],
   "source": [
    "print(f\"The estimated home value in 2022 for San Joaquin County is ${(slope3)*2022 + (intercept3)} dollars.\" )\n",
    "# print(f\"The new point was classified as: {predictions}\") "
   ]
  },
  {
   "cell_type": "code",
   "execution_count": null,
   "id": "b1f9f987",
   "metadata": {},
   "outputs": [],
   "source": []
  }
 ],
 "metadata": {
  "kernelspec": {
   "display_name": "mlenv",
   "language": "python",
   "name": "mlenv"
  },
  "language_info": {
   "codemirror_mode": {
    "name": "ipython",
    "version": 3
   },
   "file_extension": ".py",
   "mimetype": "text/x-python",
   "name": "python",
   "nbconvert_exporter": "python",
   "pygments_lexer": "ipython3",
   "version": "3.7.11"
  }
 },
 "nbformat": 4,
 "nbformat_minor": 5
}
