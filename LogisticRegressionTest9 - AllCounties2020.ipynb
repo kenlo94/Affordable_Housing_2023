{
 "cells": [
  {
   "cell_type": "code",
   "execution_count": 48,
   "id": "0a379c9e",
   "metadata": {},
   "outputs": [],
   "source": [
    "import pandas as pd\n",
    "from pathlib import Path\n",
    "import matplotlib.pyplot as plt\n",
    "from sklearn.linear_model import LinearRegression"
   ]
  },
  {
   "cell_type": "code",
   "execution_count": 49,
   "id": "145cbf67",
   "metadata": {},
   "outputs": [
    {
     "data": {
      "text/html": [
       "<div>\n",
       "<style scoped>\n",
       "    .dataframe tbody tr th:only-of-type {\n",
       "        vertical-align: middle;\n",
       "    }\n",
       "\n",
       "    .dataframe tbody tr th {\n",
       "        vertical-align: top;\n",
       "    }\n",
       "\n",
       "    .dataframe thead th {\n",
       "        text-align: right;\n",
       "    }\n",
       "</style>\n",
       "<table border=\"1\" class=\"dataframe\">\n",
       "  <thead>\n",
       "    <tr style=\"text-align: right;\">\n",
       "      <th></th>\n",
       "      <th>Month</th>\n",
       "      <th>County</th>\n",
       "      <th>Population</th>\n",
       "      <th>Avg_Monthly_Wages</th>\n",
       "      <th>Avg_HV</th>\n",
       "    </tr>\n",
       "  </thead>\n",
       "  <tbody>\n",
       "    <tr>\n",
       "      <th>0</th>\n",
       "      <td>1/1/2020</td>\n",
       "      <td>Alameda</td>\n",
       "      <td>1679844</td>\n",
       "      <td>6736.0</td>\n",
       "      <td>904671.0</td>\n",
       "    </tr>\n",
       "    <tr>\n",
       "      <th>1</th>\n",
       "      <td>1/1/2020</td>\n",
       "      <td>Alpine</td>\n",
       "      <td>1198</td>\n",
       "      <td>3547.0</td>\n",
       "      <td>423354.0</td>\n",
       "    </tr>\n",
       "    <tr>\n",
       "      <th>2</th>\n",
       "      <td>1/1/2020</td>\n",
       "      <td>Amador</td>\n",
       "      <td>40541</td>\n",
       "      <td>3864.0</td>\n",
       "      <td>325168.0</td>\n",
       "    </tr>\n",
       "    <tr>\n",
       "      <th>3</th>\n",
       "      <td>1/1/2020</td>\n",
       "      <td>Butte</td>\n",
       "      <td>210083</td>\n",
       "      <td>3750.0</td>\n",
       "      <td>340989.0</td>\n",
       "    </tr>\n",
       "    <tr>\n",
       "      <th>4</th>\n",
       "      <td>1/1/2020</td>\n",
       "      <td>Calaveras</td>\n",
       "      <td>45327</td>\n",
       "      <td>3494.0</td>\n",
       "      <td>334012.0</td>\n",
       "    </tr>\n",
       "  </tbody>\n",
       "</table>\n",
       "</div>"
      ],
      "text/plain": [
       "      Month     County  Population  Avg_Monthly_Wages    Avg_HV\n",
       "0  1/1/2020    Alameda     1679844             6736.0  904671.0\n",
       "1  1/1/2020     Alpine        1198             3547.0  423354.0\n",
       "2  1/1/2020     Amador       40541             3864.0  325168.0\n",
       "3  1/1/2020      Butte      210083             3750.0  340989.0\n",
       "4  1/1/2020  Calaveras       45327             3494.0  334012.0"
      ]
     },
     "execution_count": 49,
     "metadata": {},
     "output_type": "execute_result"
    }
   ],
   "source": [
    "df = pd.read_csv(Path('AllCounties2020.csv'))\n",
    "df.head()"
   ]
  },
  {
   "cell_type": "code",
   "execution_count": 50,
   "id": "93995112",
   "metadata": {},
   "outputs": [
    {
     "data": {
      "text/plain": [
       "Month                696\n",
       "County               696\n",
       "Population           696\n",
       "Avg_Monthly_Wages    696\n",
       "Avg_HV               680\n",
       "dtype: int64"
      ]
     },
     "execution_count": 50,
     "metadata": {},
     "output_type": "execute_result"
    }
   ],
   "source": [
    "df.count()"
   ]
  },
  {
   "cell_type": "code",
   "execution_count": 51,
   "id": "bda19b83",
   "metadata": {},
   "outputs": [],
   "source": [
    "df = df.dropna()"
   ]
  },
  {
   "cell_type": "code",
   "execution_count": 52,
   "id": "3079a80f",
   "metadata": {},
   "outputs": [
    {
     "data": {
      "text/plain": [
       "Month                680\n",
       "County               680\n",
       "Population           680\n",
       "Avg_Monthly_Wages    680\n",
       "Avg_HV               680\n",
       "dtype: int64"
      ]
     },
     "execution_count": 52,
     "metadata": {},
     "output_type": "execute_result"
    }
   ],
   "source": [
    "df.count()"
   ]
  },
  {
   "cell_type": "code",
   "execution_count": 53,
   "id": "0a79530b",
   "metadata": {},
   "outputs": [],
   "source": [
    "df['Outcome'] = \"\""
   ]
  },
  {
   "cell_type": "code",
   "execution_count": 54,
   "id": "c41b4413",
   "metadata": {},
   "outputs": [
    {
     "data": {
      "text/html": [
       "<div>\n",
       "<style scoped>\n",
       "    .dataframe tbody tr th:only-of-type {\n",
       "        vertical-align: middle;\n",
       "    }\n",
       "\n",
       "    .dataframe tbody tr th {\n",
       "        vertical-align: top;\n",
       "    }\n",
       "\n",
       "    .dataframe thead th {\n",
       "        text-align: right;\n",
       "    }\n",
       "</style>\n",
       "<table border=\"1\" class=\"dataframe\">\n",
       "  <thead>\n",
       "    <tr style=\"text-align: right;\">\n",
       "      <th></th>\n",
       "      <th>Month</th>\n",
       "      <th>County</th>\n",
       "      <th>Population</th>\n",
       "      <th>Avg_Monthly_Wages</th>\n",
       "      <th>Avg_HV</th>\n",
       "      <th>Outcome</th>\n",
       "    </tr>\n",
       "  </thead>\n",
       "  <tbody>\n",
       "    <tr>\n",
       "      <th>0</th>\n",
       "      <td>1/1/2020</td>\n",
       "      <td>Alameda</td>\n",
       "      <td>1679844</td>\n",
       "      <td>6736.0</td>\n",
       "      <td>904671.0</td>\n",
       "      <td></td>\n",
       "    </tr>\n",
       "    <tr>\n",
       "      <th>1</th>\n",
       "      <td>1/1/2020</td>\n",
       "      <td>Alpine</td>\n",
       "      <td>1198</td>\n",
       "      <td>3547.0</td>\n",
       "      <td>423354.0</td>\n",
       "      <td></td>\n",
       "    </tr>\n",
       "    <tr>\n",
       "      <th>2</th>\n",
       "      <td>1/1/2020</td>\n",
       "      <td>Amador</td>\n",
       "      <td>40541</td>\n",
       "      <td>3864.0</td>\n",
       "      <td>325168.0</td>\n",
       "      <td></td>\n",
       "    </tr>\n",
       "    <tr>\n",
       "      <th>3</th>\n",
       "      <td>1/1/2020</td>\n",
       "      <td>Butte</td>\n",
       "      <td>210083</td>\n",
       "      <td>3750.0</td>\n",
       "      <td>340989.0</td>\n",
       "      <td></td>\n",
       "    </tr>\n",
       "    <tr>\n",
       "      <th>4</th>\n",
       "      <td>1/1/2020</td>\n",
       "      <td>Calaveras</td>\n",
       "      <td>45327</td>\n",
       "      <td>3494.0</td>\n",
       "      <td>334012.0</td>\n",
       "      <td></td>\n",
       "    </tr>\n",
       "    <tr>\n",
       "      <th>...</th>\n",
       "      <td>...</td>\n",
       "      <td>...</td>\n",
       "      <td>...</td>\n",
       "      <td>...</td>\n",
       "      <td>...</td>\n",
       "      <td>...</td>\n",
       "    </tr>\n",
       "    <tr>\n",
       "      <th>690</th>\n",
       "      <td>12/1/2020</td>\n",
       "      <td>Trinity</td>\n",
       "      <td>12869</td>\n",
       "      <td>3436.0</td>\n",
       "      <td>287656.0</td>\n",
       "      <td></td>\n",
       "    </tr>\n",
       "    <tr>\n",
       "      <th>691</th>\n",
       "      <td>12/1/2020</td>\n",
       "      <td>Tulare</td>\n",
       "      <td>372792</td>\n",
       "      <td>3496.0</td>\n",
       "      <td>257172.0</td>\n",
       "      <td></td>\n",
       "    </tr>\n",
       "    <tr>\n",
       "      <th>693</th>\n",
       "      <td>12/1/2020</td>\n",
       "      <td>Ventura</td>\n",
       "      <td>765840</td>\n",
       "      <td>4880.0</td>\n",
       "      <td>664960.0</td>\n",
       "      <td></td>\n",
       "    </tr>\n",
       "    <tr>\n",
       "      <th>694</th>\n",
       "      <td>12/1/2020</td>\n",
       "      <td>Yolo</td>\n",
       "      <td>174879</td>\n",
       "      <td>5056.0</td>\n",
       "      <td>509539.0</td>\n",
       "      <td></td>\n",
       "    </tr>\n",
       "    <tr>\n",
       "      <th>695</th>\n",
       "      <td>12/1/2020</td>\n",
       "      <td>Yuba</td>\n",
       "      <td>61176</td>\n",
       "      <td>4372.0</td>\n",
       "      <td>319667.0</td>\n",
       "      <td></td>\n",
       "    </tr>\n",
       "  </tbody>\n",
       "</table>\n",
       "<p>680 rows × 6 columns</p>\n",
       "</div>"
      ],
      "text/plain": [
       "         Month     County  Population  Avg_Monthly_Wages    Avg_HV Outcome\n",
       "0     1/1/2020    Alameda     1679844             6736.0  904671.0        \n",
       "1     1/1/2020     Alpine        1198             3547.0  423354.0        \n",
       "2     1/1/2020     Amador       40541             3864.0  325168.0        \n",
       "3     1/1/2020      Butte      210083             3750.0  340989.0        \n",
       "4     1/1/2020  Calaveras       45327             3494.0  334012.0        \n",
       "..         ...        ...         ...                ...       ...     ...\n",
       "690  12/1/2020    Trinity       12869             3436.0  287656.0        \n",
       "691  12/1/2020     Tulare      372792             3496.0  257172.0        \n",
       "693  12/1/2020    Ventura      765840             4880.0  664960.0        \n",
       "694  12/1/2020       Yolo      174879             5056.0  509539.0        \n",
       "695  12/1/2020       Yuba       61176             4372.0  319667.0        \n",
       "\n",
       "[680 rows x 6 columns]"
      ]
     },
     "execution_count": 54,
     "metadata": {},
     "output_type": "execute_result"
    }
   ],
   "source": [
    "df"
   ]
  },
  {
   "cell_type": "code",
   "execution_count": 55,
   "id": "c2f46528",
   "metadata": {},
   "outputs": [
    {
     "data": {
      "text/plain": [
       "490340.0073529412"
      ]
     },
     "execution_count": 55,
     "metadata": {},
     "output_type": "execute_result"
    }
   ],
   "source": [
    "df['Avg_HV'].mean()"
   ]
  },
  {
   "cell_type": "code",
   "execution_count": 56,
   "id": "c8184111",
   "metadata": {},
   "outputs": [
    {
     "data": {
      "text/plain": [
       "376990.5"
      ]
     },
     "execution_count": 56,
     "metadata": {},
     "output_type": "execute_result"
    }
   ],
   "source": [
    "df['Avg_HV'].median()"
   ]
  },
  {
   "cell_type": "code",
   "execution_count": 57,
   "id": "0194b33a",
   "metadata": {},
   "outputs": [],
   "source": [
    "df['Outcome'] = df['Avg_HV'].apply(lambda x: 0 if x <= 400000 else 1)"
   ]
  },
  {
   "cell_type": "code",
   "execution_count": 58,
   "id": "70e4a33e",
   "metadata": {},
   "outputs": [
    {
     "data": {
      "text/html": [
       "<div>\n",
       "<style scoped>\n",
       "    .dataframe tbody tr th:only-of-type {\n",
       "        vertical-align: middle;\n",
       "    }\n",
       "\n",
       "    .dataframe tbody tr th {\n",
       "        vertical-align: top;\n",
       "    }\n",
       "\n",
       "    .dataframe thead th {\n",
       "        text-align: right;\n",
       "    }\n",
       "</style>\n",
       "<table border=\"1\" class=\"dataframe\">\n",
       "  <thead>\n",
       "    <tr style=\"text-align: right;\">\n",
       "      <th></th>\n",
       "      <th>Month</th>\n",
       "      <th>County</th>\n",
       "      <th>Population</th>\n",
       "      <th>Avg_Monthly_Wages</th>\n",
       "      <th>Avg_HV</th>\n",
       "      <th>Outcome</th>\n",
       "    </tr>\n",
       "  </thead>\n",
       "  <tbody>\n",
       "    <tr>\n",
       "      <th>0</th>\n",
       "      <td>1/1/2020</td>\n",
       "      <td>Alameda</td>\n",
       "      <td>1679844</td>\n",
       "      <td>6736.0</td>\n",
       "      <td>904671.0</td>\n",
       "      <td>1</td>\n",
       "    </tr>\n",
       "    <tr>\n",
       "      <th>1</th>\n",
       "      <td>1/1/2020</td>\n",
       "      <td>Alpine</td>\n",
       "      <td>1198</td>\n",
       "      <td>3547.0</td>\n",
       "      <td>423354.0</td>\n",
       "      <td>1</td>\n",
       "    </tr>\n",
       "    <tr>\n",
       "      <th>2</th>\n",
       "      <td>1/1/2020</td>\n",
       "      <td>Amador</td>\n",
       "      <td>40541</td>\n",
       "      <td>3864.0</td>\n",
       "      <td>325168.0</td>\n",
       "      <td>0</td>\n",
       "    </tr>\n",
       "    <tr>\n",
       "      <th>3</th>\n",
       "      <td>1/1/2020</td>\n",
       "      <td>Butte</td>\n",
       "      <td>210083</td>\n",
       "      <td>3750.0</td>\n",
       "      <td>340989.0</td>\n",
       "      <td>0</td>\n",
       "    </tr>\n",
       "    <tr>\n",
       "      <th>4</th>\n",
       "      <td>1/1/2020</td>\n",
       "      <td>Calaveras</td>\n",
       "      <td>45327</td>\n",
       "      <td>3494.0</td>\n",
       "      <td>334012.0</td>\n",
       "      <td>0</td>\n",
       "    </tr>\n",
       "    <tr>\n",
       "      <th>...</th>\n",
       "      <td>...</td>\n",
       "      <td>...</td>\n",
       "      <td>...</td>\n",
       "      <td>...</td>\n",
       "      <td>...</td>\n",
       "      <td>...</td>\n",
       "    </tr>\n",
       "    <tr>\n",
       "      <th>690</th>\n",
       "      <td>12/1/2020</td>\n",
       "      <td>Trinity</td>\n",
       "      <td>12869</td>\n",
       "      <td>3436.0</td>\n",
       "      <td>287656.0</td>\n",
       "      <td>0</td>\n",
       "    </tr>\n",
       "    <tr>\n",
       "      <th>691</th>\n",
       "      <td>12/1/2020</td>\n",
       "      <td>Tulare</td>\n",
       "      <td>372792</td>\n",
       "      <td>3496.0</td>\n",
       "      <td>257172.0</td>\n",
       "      <td>0</td>\n",
       "    </tr>\n",
       "    <tr>\n",
       "      <th>693</th>\n",
       "      <td>12/1/2020</td>\n",
       "      <td>Ventura</td>\n",
       "      <td>765840</td>\n",
       "      <td>4880.0</td>\n",
       "      <td>664960.0</td>\n",
       "      <td>1</td>\n",
       "    </tr>\n",
       "    <tr>\n",
       "      <th>694</th>\n",
       "      <td>12/1/2020</td>\n",
       "      <td>Yolo</td>\n",
       "      <td>174879</td>\n",
       "      <td>5056.0</td>\n",
       "      <td>509539.0</td>\n",
       "      <td>1</td>\n",
       "    </tr>\n",
       "    <tr>\n",
       "      <th>695</th>\n",
       "      <td>12/1/2020</td>\n",
       "      <td>Yuba</td>\n",
       "      <td>61176</td>\n",
       "      <td>4372.0</td>\n",
       "      <td>319667.0</td>\n",
       "      <td>0</td>\n",
       "    </tr>\n",
       "  </tbody>\n",
       "</table>\n",
       "<p>680 rows × 6 columns</p>\n",
       "</div>"
      ],
      "text/plain": [
       "         Month     County  Population  Avg_Monthly_Wages    Avg_HV  Outcome\n",
       "0     1/1/2020    Alameda     1679844             6736.0  904671.0        1\n",
       "1     1/1/2020     Alpine        1198             3547.0  423354.0        1\n",
       "2     1/1/2020     Amador       40541             3864.0  325168.0        0\n",
       "3     1/1/2020      Butte      210083             3750.0  340989.0        0\n",
       "4     1/1/2020  Calaveras       45327             3494.0  334012.0        0\n",
       "..         ...        ...         ...                ...       ...      ...\n",
       "690  12/1/2020    Trinity       12869             3436.0  287656.0        0\n",
       "691  12/1/2020     Tulare      372792             3496.0  257172.0        0\n",
       "693  12/1/2020    Ventura      765840             4880.0  664960.0        1\n",
       "694  12/1/2020       Yolo      174879             5056.0  509539.0        1\n",
       "695  12/1/2020       Yuba       61176             4372.0  319667.0        0\n",
       "\n",
       "[680 rows x 6 columns]"
      ]
     },
     "execution_count": 58,
     "metadata": {},
     "output_type": "execute_result"
    }
   ],
   "source": [
    "df"
   ]
  },
  {
   "cell_type": "code",
   "execution_count": 59,
   "id": "5936b683",
   "metadata": {},
   "outputs": [],
   "source": [
    "y = df[\"Outcome\"]\n",
    "X = df.drop(columns=[\"Month\",\"County\",\"Avg_HV\",\"Outcome\"])"
   ]
  },
  {
   "cell_type": "code",
   "execution_count": 60,
   "id": "d227556f",
   "metadata": {},
   "outputs": [
    {
     "data": {
      "text/plain": [
       "0      1\n",
       "1      1\n",
       "2      0\n",
       "3      0\n",
       "4      0\n",
       "      ..\n",
       "690    0\n",
       "691    0\n",
       "693    1\n",
       "694    1\n",
       "695    0\n",
       "Name: Outcome, Length: 680, dtype: int64"
      ]
     },
     "execution_count": 60,
     "metadata": {},
     "output_type": "execute_result"
    }
   ],
   "source": [
    "y"
   ]
  },
  {
   "cell_type": "code",
   "execution_count": 61,
   "id": "782e8dc2",
   "metadata": {},
   "outputs": [
    {
     "data": {
      "text/html": [
       "<div>\n",
       "<style scoped>\n",
       "    .dataframe tbody tr th:only-of-type {\n",
       "        vertical-align: middle;\n",
       "    }\n",
       "\n",
       "    .dataframe tbody tr th {\n",
       "        vertical-align: top;\n",
       "    }\n",
       "\n",
       "    .dataframe thead th {\n",
       "        text-align: right;\n",
       "    }\n",
       "</style>\n",
       "<table border=\"1\" class=\"dataframe\">\n",
       "  <thead>\n",
       "    <tr style=\"text-align: right;\">\n",
       "      <th></th>\n",
       "      <th>Population</th>\n",
       "      <th>Avg_Monthly_Wages</th>\n",
       "    </tr>\n",
       "  </thead>\n",
       "  <tbody>\n",
       "    <tr>\n",
       "      <th>0</th>\n",
       "      <td>1679844</td>\n",
       "      <td>6736.0</td>\n",
       "    </tr>\n",
       "    <tr>\n",
       "      <th>1</th>\n",
       "      <td>1198</td>\n",
       "      <td>3547.0</td>\n",
       "    </tr>\n",
       "    <tr>\n",
       "      <th>2</th>\n",
       "      <td>40541</td>\n",
       "      <td>3864.0</td>\n",
       "    </tr>\n",
       "    <tr>\n",
       "      <th>3</th>\n",
       "      <td>210083</td>\n",
       "      <td>3750.0</td>\n",
       "    </tr>\n",
       "    <tr>\n",
       "      <th>4</th>\n",
       "      <td>45327</td>\n",
       "      <td>3494.0</td>\n",
       "    </tr>\n",
       "    <tr>\n",
       "      <th>...</th>\n",
       "      <td>...</td>\n",
       "      <td>...</td>\n",
       "    </tr>\n",
       "    <tr>\n",
       "      <th>690</th>\n",
       "      <td>12869</td>\n",
       "      <td>3436.0</td>\n",
       "    </tr>\n",
       "    <tr>\n",
       "      <th>691</th>\n",
       "      <td>372792</td>\n",
       "      <td>3496.0</td>\n",
       "    </tr>\n",
       "    <tr>\n",
       "      <th>693</th>\n",
       "      <td>765840</td>\n",
       "      <td>4880.0</td>\n",
       "    </tr>\n",
       "    <tr>\n",
       "      <th>694</th>\n",
       "      <td>174879</td>\n",
       "      <td>5056.0</td>\n",
       "    </tr>\n",
       "    <tr>\n",
       "      <th>695</th>\n",
       "      <td>61176</td>\n",
       "      <td>4372.0</td>\n",
       "    </tr>\n",
       "  </tbody>\n",
       "</table>\n",
       "<p>680 rows × 2 columns</p>\n",
       "</div>"
      ],
      "text/plain": [
       "     Population  Avg_Monthly_Wages\n",
       "0       1679844             6736.0\n",
       "1          1198             3547.0\n",
       "2         40541             3864.0\n",
       "3        210083             3750.0\n",
       "4         45327             3494.0\n",
       "..          ...                ...\n",
       "690       12869             3436.0\n",
       "691      372792             3496.0\n",
       "693      765840             4880.0\n",
       "694      174879             5056.0\n",
       "695       61176             4372.0\n",
       "\n",
       "[680 rows x 2 columns]"
      ]
     },
     "execution_count": 61,
     "metadata": {},
     "output_type": "execute_result"
    }
   ],
   "source": [
    "X"
   ]
  },
  {
   "cell_type": "code",
   "execution_count": 62,
   "id": "0a48ab63",
   "metadata": {},
   "outputs": [
    {
     "data": {
      "text/plain": [
       "(680,)"
      ]
     },
     "execution_count": 62,
     "metadata": {},
     "output_type": "execute_result"
    }
   ],
   "source": [
    "y.shape"
   ]
  },
  {
   "cell_type": "code",
   "execution_count": 63,
   "id": "e761e3e1",
   "metadata": {},
   "outputs": [
    {
     "data": {
      "text/plain": [
       "(680, 2)"
      ]
     },
     "execution_count": 63,
     "metadata": {},
     "output_type": "execute_result"
    }
   ],
   "source": [
    "X.shape"
   ]
  },
  {
   "cell_type": "code",
   "execution_count": 64,
   "id": "717a8600",
   "metadata": {},
   "outputs": [
    {
     "data": {
      "text/plain": [
       "(510, 2)"
      ]
     },
     "execution_count": 64,
     "metadata": {},
     "output_type": "execute_result"
    }
   ],
   "source": [
    "from sklearn.model_selection import train_test_split\n",
    "\n",
    "X_train, X_test, y_train, y_test = train_test_split(X, \n",
    "                                                    y, \n",
    "                                                    random_state=1, \n",
    "                                                    stratify=y)\n",
    "X_train.shape"
   ]
  },
  {
   "cell_type": "code",
   "execution_count": 65,
   "id": "eaca993d",
   "metadata": {},
   "outputs": [],
   "source": [
    "from sklearn.linear_model import LogisticRegression\n",
    "classifier = LogisticRegression(solver='lbfgs',\n",
    "                                max_iter=200,\n",
    "                                random_state=1)"
   ]
  },
  {
   "cell_type": "code",
   "execution_count": 66,
   "id": "3e2a528f",
   "metadata": {},
   "outputs": [
    {
     "data": {
      "text/plain": [
       "LogisticRegression(max_iter=200, random_state=1)"
      ]
     },
     "execution_count": 66,
     "metadata": {},
     "output_type": "execute_result"
    }
   ],
   "source": [
    "classifier.fit(X_train, y_train)"
   ]
  },
  {
   "cell_type": "code",
   "execution_count": 67,
   "id": "cd76b5ba",
   "metadata": {},
   "outputs": [
    {
     "data": {
      "text/html": [
       "<div>\n",
       "<style scoped>\n",
       "    .dataframe tbody tr th:only-of-type {\n",
       "        vertical-align: middle;\n",
       "    }\n",
       "\n",
       "    .dataframe tbody tr th {\n",
       "        vertical-align: top;\n",
       "    }\n",
       "\n",
       "    .dataframe thead th {\n",
       "        text-align: right;\n",
       "    }\n",
       "</style>\n",
       "<table border=\"1\" class=\"dataframe\">\n",
       "  <thead>\n",
       "    <tr style=\"text-align: right;\">\n",
       "      <th></th>\n",
       "      <th>Prediction</th>\n",
       "      <th>Actual</th>\n",
       "    </tr>\n",
       "  </thead>\n",
       "  <tbody>\n",
       "    <tr>\n",
       "      <th>0</th>\n",
       "      <td>0</td>\n",
       "      <td>0</td>\n",
       "    </tr>\n",
       "    <tr>\n",
       "      <th>1</th>\n",
       "      <td>1</td>\n",
       "      <td>1</td>\n",
       "    </tr>\n",
       "    <tr>\n",
       "      <th>2</th>\n",
       "      <td>1</td>\n",
       "      <td>1</td>\n",
       "    </tr>\n",
       "    <tr>\n",
       "      <th>3</th>\n",
       "      <td>0</td>\n",
       "      <td>0</td>\n",
       "    </tr>\n",
       "    <tr>\n",
       "      <th>4</th>\n",
       "      <td>1</td>\n",
       "      <td>0</td>\n",
       "    </tr>\n",
       "    <tr>\n",
       "      <th>5</th>\n",
       "      <td>0</td>\n",
       "      <td>0</td>\n",
       "    </tr>\n",
       "    <tr>\n",
       "      <th>6</th>\n",
       "      <td>0</td>\n",
       "      <td>1</td>\n",
       "    </tr>\n",
       "    <tr>\n",
       "      <th>7</th>\n",
       "      <td>0</td>\n",
       "      <td>0</td>\n",
       "    </tr>\n",
       "    <tr>\n",
       "      <th>8</th>\n",
       "      <td>1</td>\n",
       "      <td>0</td>\n",
       "    </tr>\n",
       "    <tr>\n",
       "      <th>9</th>\n",
       "      <td>0</td>\n",
       "      <td>0</td>\n",
       "    </tr>\n",
       "    <tr>\n",
       "      <th>10</th>\n",
       "      <td>0</td>\n",
       "      <td>0</td>\n",
       "    </tr>\n",
       "    <tr>\n",
       "      <th>11</th>\n",
       "      <td>0</td>\n",
       "      <td>0</td>\n",
       "    </tr>\n",
       "    <tr>\n",
       "      <th>12</th>\n",
       "      <td>0</td>\n",
       "      <td>1</td>\n",
       "    </tr>\n",
       "    <tr>\n",
       "      <th>13</th>\n",
       "      <td>0</td>\n",
       "      <td>1</td>\n",
       "    </tr>\n",
       "    <tr>\n",
       "      <th>14</th>\n",
       "      <td>0</td>\n",
       "      <td>0</td>\n",
       "    </tr>\n",
       "    <tr>\n",
       "      <th>15</th>\n",
       "      <td>0</td>\n",
       "      <td>0</td>\n",
       "    </tr>\n",
       "    <tr>\n",
       "      <th>16</th>\n",
       "      <td>1</td>\n",
       "      <td>1</td>\n",
       "    </tr>\n",
       "    <tr>\n",
       "      <th>17</th>\n",
       "      <td>1</td>\n",
       "      <td>1</td>\n",
       "    </tr>\n",
       "    <tr>\n",
       "      <th>18</th>\n",
       "      <td>0</td>\n",
       "      <td>0</td>\n",
       "    </tr>\n",
       "    <tr>\n",
       "      <th>19</th>\n",
       "      <td>1</td>\n",
       "      <td>1</td>\n",
       "    </tr>\n",
       "  </tbody>\n",
       "</table>\n",
       "</div>"
      ],
      "text/plain": [
       "    Prediction  Actual\n",
       "0            0       0\n",
       "1            1       1\n",
       "2            1       1\n",
       "3            0       0\n",
       "4            1       0\n",
       "5            0       0\n",
       "6            0       1\n",
       "7            0       0\n",
       "8            1       0\n",
       "9            0       0\n",
       "10           0       0\n",
       "11           0       0\n",
       "12           0       1\n",
       "13           0       1\n",
       "14           0       0\n",
       "15           0       0\n",
       "16           1       1\n",
       "17           1       1\n",
       "18           0       0\n",
       "19           1       1"
      ]
     },
     "execution_count": 67,
     "metadata": {},
     "output_type": "execute_result"
    }
   ],
   "source": [
    "y_pred = classifier.predict(X_test)\n",
    "results = pd.DataFrame({\"Prediction\": y_pred, \"Actual\": y_test}).reset_index(drop=True)\n",
    "results.head(20)"
   ]
  },
  {
   "cell_type": "code",
   "execution_count": 68,
   "id": "9d459bcf",
   "metadata": {},
   "outputs": [
    {
     "name": "stdout",
     "output_type": "stream",
     "text": [
      "0.711764705882353\n"
     ]
    }
   ],
   "source": [
    "from sklearn.metrics import accuracy_score\n",
    "print(accuracy_score(y_test, y_pred))"
   ]
  },
  {
   "cell_type": "code",
   "execution_count": 69,
   "id": "3d9eae98",
   "metadata": {},
   "outputs": [
    {
     "name": "stdout",
     "output_type": "stream",
     "text": [
      "[[67 22]\n",
      " [27 54]]\n"
     ]
    }
   ],
   "source": [
    "from sklearn.metrics import confusion_matrix, classification_report\n",
    "matrix = confusion_matrix(y_test, y_pred)\n",
    "print(matrix)"
   ]
  },
  {
   "cell_type": "code",
   "execution_count": 70,
   "id": "9ecc36c7",
   "metadata": {},
   "outputs": [
    {
     "name": "stdout",
     "output_type": "stream",
     "text": [
      "              precision    recall  f1-score   support\n",
      "\n",
      "           0       0.71      0.75      0.73        89\n",
      "           1       0.71      0.67      0.69        81\n",
      "\n",
      "    accuracy                           0.71       170\n",
      "   macro avg       0.71      0.71      0.71       170\n",
      "weighted avg       0.71      0.71      0.71       170\n",
      "\n"
     ]
    }
   ],
   "source": [
    "report = classification_report(y_test, y_pred)\n",
    "print(report)"
   ]
  },
  {
   "cell_type": "code",
   "execution_count": null,
   "id": "e25ddcca",
   "metadata": {},
   "outputs": [],
   "source": []
  }
 ],
 "metadata": {
  "kernelspec": {
   "display_name": "mlenv",
   "language": "python",
   "name": "mlenv"
  },
  "language_info": {
   "codemirror_mode": {
    "name": "ipython",
    "version": 3
   },
   "file_extension": ".py",
   "mimetype": "text/x-python",
   "name": "python",
   "nbconvert_exporter": "python",
   "pygments_lexer": "ipython3",
   "version": "3.7.11"
  }
 },
 "nbformat": 4,
 "nbformat_minor": 5
}
